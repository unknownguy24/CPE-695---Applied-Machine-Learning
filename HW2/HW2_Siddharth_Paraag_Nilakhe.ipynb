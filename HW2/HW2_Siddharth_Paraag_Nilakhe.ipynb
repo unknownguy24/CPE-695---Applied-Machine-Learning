{
 "cells": [
  {
   "cell_type": "markdown",
   "id": "a6a7e99b",
   "metadata": {},
   "source": [
    "# Assignment 3"
   ]
  },
  {
   "cell_type": "code",
   "execution_count": 250,
   "id": "9521c7ad",
   "metadata": {},
   "outputs": [],
   "source": [
    "import pandas as pd\n",
    "import numpy as np\n",
    "import matplotlib.pyplot as plt\n",
    "from sklearn.model_selection import train_test_split\n",
    "import random\n",
    "from sklearn.metrics import mean_squared_error"
   ]
  },
  {
   "cell_type": "code",
   "execution_count": 251,
   "id": "b43f7a80",
   "metadata": {},
   "outputs": [
    {
     "data": {
      "text/html": [
       "<div>\n",
       "<style scoped>\n",
       "    .dataframe tbody tr th:only-of-type {\n",
       "        vertical-align: middle;\n",
       "    }\n",
       "\n",
       "    .dataframe tbody tr th {\n",
       "        vertical-align: top;\n",
       "    }\n",
       "\n",
       "    .dataframe thead th {\n",
       "        text-align: right;\n",
       "    }\n",
       "</style>\n",
       "<table border=\"1\" class=\"dataframe\">\n",
       "  <thead>\n",
       "    <tr style=\"text-align: right;\">\n",
       "      <th></th>\n",
       "      <th>X</th>\n",
       "      <th>Y</th>\n",
       "    </tr>\n",
       "  </thead>\n",
       "  <tbody>\n",
       "    <tr>\n",
       "      <th>0</th>\n",
       "      <td>6.1101</td>\n",
       "      <td>17.5920</td>\n",
       "    </tr>\n",
       "    <tr>\n",
       "      <th>1</th>\n",
       "      <td>5.5277</td>\n",
       "      <td>9.1302</td>\n",
       "    </tr>\n",
       "    <tr>\n",
       "      <th>2</th>\n",
       "      <td>8.5186</td>\n",
       "      <td>13.6620</td>\n",
       "    </tr>\n",
       "    <tr>\n",
       "      <th>3</th>\n",
       "      <td>7.0032</td>\n",
       "      <td>11.8540</td>\n",
       "    </tr>\n",
       "    <tr>\n",
       "      <th>4</th>\n",
       "      <td>5.8598</td>\n",
       "      <td>6.8233</td>\n",
       "    </tr>\n",
       "  </tbody>\n",
       "</table>\n",
       "</div>"
      ],
      "text/plain": [
       "        X        Y\n",
       "0  6.1101  17.5920\n",
       "1  5.5277   9.1302\n",
       "2  8.5186  13.6620\n",
       "3  7.0032  11.8540\n",
       "4  5.8598   6.8233"
      ]
     },
     "execution_count": 251,
     "metadata": {},
     "output_type": "execute_result"
    }
   ],
   "source": [
    "col_names = ['X','Y']\n",
    "df = pd.read_csv('data2.txt',names=col_names)\n",
    "df.head()"
   ]
  },
  {
   "cell_type": "markdown",
   "id": "aad35e6f",
   "metadata": {},
   "source": [
    "# Section 1 - Plot the data"
   ]
  },
  {
   "cell_type": "code",
   "execution_count": 252,
   "id": "24d7f3dd",
   "metadata": {},
   "outputs": [
    {
     "data": {
      "image/png": "[encoded data removed]",
      "text/plain": [
       "<Figure size 432x288 with 1 Axes>"
      ]
     },
     "metadata": {
      "needs_background": "light"
     },
     "output_type": "display_data"
    }
   ],
   "source": [
    "plt.scatter(df['X'],df['Y'])\n",
    "plt.show()"
   ]
  },
  {
   "cell_type": "markdown",
   "id": "3d7bad27",
   "metadata": {},
   "source": [
    "# Section 2 - Find coefficients using Normal equation"
   ]
  },
  {
   "cell_type": "code",
   "execution_count": 253,
   "id": "a1e9d7f5",
   "metadata": {},
   "outputs": [
    {
     "name": "stdout",
     "output_type": "stream",
     "text": [
      "The coefficients are -3.8957808783118786 and 1.1930336441895957\n"
     ]
    },
    {
     "data": {
      "image/png": "[encoded data removed]",
      "text/plain": [
       "<Figure size 432x288 with 1 Axes>"
      ]
     },
     "metadata": {
      "needs_background": "light"
     },
     "output_type": "display_data"
    }
   ],
   "source": [
    "X_p = np.c_[np.ones((97,1)),df['X']]\n",
    "theta_best = np.linalg.inv(X_p.T.dot(X_p)).dot(X_p.T).dot(df['Y'])\n",
    "X_true = df['X'].values\n",
    "Y_true = df['Y']\n",
    "Y_pred = theta_best[0] + theta_best[1]*X_true \n",
    "print(\"The coefficients are\",theta_best[0],\"and\",theta_best[1])\n",
    "plt.scatter(df['X'],df['Y'])\n",
    "plt.plot(X_true,Y_pred,'r-')\n",
    "plt.show()"
   ]
  },
  {
   "cell_type": "markdown",
   "id": "1e3ca3dd",
   "metadata": {},
   "source": [
    "# Gradient Descent using batch and stochastic modes "
   ]
  },
  {
   "cell_type": "markdown",
   "id": "8a3aa6db",
   "metadata": {},
   "source": [
    "### Splitting dataset into 80% training data and 20% testing data"
   ]
  },
  {
   "cell_type": "code",
   "execution_count": 254,
   "id": "0b362604",
   "metadata": {},
   "outputs": [],
   "source": [
    "#Section3 \n",
    "m =len(X_true)\n",
    "x = df['X'].values\n",
    "y = df['Y'].values\n",
    "\n",
    "x_train,x_test,y_train,y_test=train_test_split(x,y,test_size=0.2,random_state=42)\n"
   ]
  },
  {
   "cell_type": "markdown",
   "id": "ebee1e76",
   "metadata": {},
   "source": [
    "### Defining batch gradient descent function"
   ]
  },
  {
   "cell_type": "code",
   "execution_count": 255,
   "id": "ca94cdd9",
   "metadata": {},
   "outputs": [],
   "source": [
    "def batch_gradient_descent(x, y_true, epochs, learning_rate):\n",
    "\n",
    "    cost_list = []\n",
    "    epoch_list=[]\n",
    "    b_list=[]\n",
    "    number_of_features = 1\n",
    "    \n",
    "    w = 1\n",
    "    b = 1\n",
    "    total_samples = x.shape[0]\n",
    "    \n",
    "    for i in range(epochs):\n",
    "        \n",
    "        y_pred = np.dot(w, x) + b\n",
    "        \n",
    "        w_grad = -(2/total_samples)*(x.dot(y_true-y_pred))\n",
    "        b_grad = -(2/total_samples)*np.sum(y_true-y_pred)\n",
    "        \n",
    "        w = w - learning_rate*w_grad\n",
    "        b = b - learning_rate*b_grad\n",
    "        \n",
    "        cost = np.mean(np.square(y_true-y_pred))\n",
    "        \n",
    "        #print(\"Iteration no\",i,\"and the cost is\",cost)\n",
    "        \n",
    "        b_list.append(b)\n",
    "        cost_list.append(cost)\n",
    "\n",
    "        epoch_list.append(i)\n",
    "            \n",
    "    return w ,  b , cost , cost_list , epoch_list , b_list\n"
   ]
  },
  {
   "cell_type": "code",
   "execution_count": 256,
   "id": "c96b9d8d",
   "metadata": {},
   "outputs": [
    {
     "name": "stdout",
     "output_type": "stream",
     "text": [
      "The coefficients are -4.181538699485347 and 1.231141365391317\n"
     ]
    }
   ],
   "source": [
    "w,b,cost,cost_list,epoch_list,b_list = batch_gradient_descent(x_train,y_train,7000,0.001)\n",
    "print(\"The coefficients are\",b,\"and\",w)"
   ]
  },
  {
   "cell_type": "markdown",
   "id": "5233259b",
   "metadata": {},
   "source": [
    "#### Graph for MSE vs ITERATIONS - BATCH GRADIENT DESCENT"
   ]
  },
  {
   "cell_type": "code",
   "execution_count": 257,
   "id": "bce151ce",
   "metadata": {},
   "outputs": [
    {
     "data": {
      "text/plain": [
       "[<matplotlib.lines.Line2D at 0x2449b37fa60>]"
      ]
     },
     "execution_count": 257,
     "metadata": {},
     "output_type": "execute_result"
    },
    {
     "data": {
      "image/png": "[encoded data removed]",
      "text/plain": [
       "<Figure size 432x288 with 1 Axes>"
      ]
     },
     "metadata": {
      "needs_background": "light"
     },
     "output_type": "display_data"
    }
   ],
   "source": [
    "plt.xlabel(\"ITERATIONS\")\n",
    "plt.ylabel(\"MSE\")\n",
    "#plt.ylim(7,12)\n",
    "plt.plot(epoch_list, cost_list, 'b-')"
   ]
  },
  {
   "cell_type": "markdown",
   "id": "4fe16f93",
   "metadata": {},
   "source": [
    "#### FOR TERMINATING CONDITION - In batch gradient descent, it has been observed that after a certain number of iterations the algorithm reaches a minima and no great change is seen on further increasing the number of iterations."
   ]
  },
  {
   "cell_type": "markdown",
   "id": "8660bf1a",
   "metadata": {},
   "source": [
    "#### Calculating MSE for test data - BATCH GRADIENT DESCENT"
   ]
  },
  {
   "cell_type": "code",
   "execution_count": 258,
   "id": "40fc04da",
   "metadata": {},
   "outputs": [
    {
     "name": "stdout",
     "output_type": "stream",
     "text": [
      "The MSE for test data is 14.957069542833812\n"
     ]
    }
   ],
   "source": [
    "y_predicted = np.dot(w,x_test.T) + b\n",
    "mse = np.mean(np.square(y_test-y_predicted))\n",
    "print(\"The MSE for test data is\",mse)  \n"
   ]
  },
  {
   "cell_type": "markdown",
   "id": "97e1904a",
   "metadata": {},
   "source": [
    "#### Plotting graph for MSE (test data) vs Learning Rate - BATCH GRADIENT DESCENT"
   ]
  },
  {
   "cell_type": "code",
   "execution_count": 259,
   "id": "454701af",
   "metadata": {},
   "outputs": [
    {
     "data": {
      "text/plain": [
       "Text(0, 0.5, 'MSE for Test data')"
      ]
     },
     "execution_count": 259,
     "metadata": {},
     "output_type": "execute_result"
    },
    {
     "data": {
      "image/png": "[encoded data removed]",
      "text/plain": [
       "<Figure size 432x288 with 1 Axes>"
      ]
     },
     "metadata": {
      "needs_background": "light"
     },
     "output_type": "display_data"
    }
   ],
   "source": [
    "learning_rate_list=[0.001,0.002,0.003,0.004,0.005,0.006,0.007,0.008,0.009,0.01]\n",
    "mse_list=[]\n",
    "for l in learning_rate_list:\n",
    "    w,b,cost,cost_list,epoch_list,b_list = batch_gradient_descent(x_train,y_train,7000,l)\n",
    "    y_predicted = np.dot(w,x_test.T) + b\n",
    "    mse_temp = np.mean(np.square(y_test-y_predicted))\n",
    "    mse_list.append(mse_temp)\n",
    "\n",
    "plt.plot(learning_rate_list,mse_list)\n",
    "plt.xlabel(\"Learning Rate\")\n",
    "plt.ylabel(\"MSE for Test data\")"
   ]
  },
  {
   "cell_type": "markdown",
   "id": "24cf2b37",
   "metadata": {},
   "source": [
    "#### We can interpret from the above graph that the best learning rate is 0.001"
   ]
  },
  {
   "cell_type": "markdown",
   "id": "4c01b1fe",
   "metadata": {},
   "source": [
    "### Defining function for STOCHASTIC GRADIENT DESCENT"
   ]
  },
  {
   "cell_type": "code",
   "execution_count": 265,
   "id": "873879b5",
   "metadata": {},
   "outputs": [],
   "source": [
    "def stochastic_gradient_descent(x,y_true,epochs,learning_rate):\n",
    "    \n",
    "    cost_list = []\n",
    "    epoch_list=[]\n",
    "    w_list=[]\n",
    "    cost_temp = 0\n",
    "    \n",
    "    w = 1\n",
    "    b = 1\n",
    "    total_samples = x.shape[0]\n",
    "    \n",
    "    for i in range(epochs):\n",
    "        for j in range(total_samples):\n",
    "            random_index =  random.randint(0,total_samples-1)\n",
    "            sample_x = x[random_index]\n",
    "            sample_y = y_true[random_index]\n",
    "        \n",
    "        #print(sample_x)\n",
    "        \n",
    "            y_pred = w * sample_x + b\n",
    "            \n",
    "            w_grad = -(2)*(sample_x*(sample_y-y_pred))\n",
    "            b_grad = -(2)*(sample_y-y_pred)\n",
    "        #print(w_grad)\n",
    "            w =  w - learning_rate * w_grad\n",
    "            b = b - learning_rate * b_grad\n",
    "            \n",
    "            cost_temp += np.mean(np.square(y_true-y_pred))\n",
    "        \n",
    "        cost = cost_temp/len(x)\n",
    "        cost_list.append(cost)\n",
    "        epoch_list.append(i)\n",
    "        cost_temp = 0\n",
    "        \n",
    "        \n",
    "    return w , b , cost, cost_list , epoch_list\n",
    "    "
   ]
  },
  {
   "cell_type": "code",
   "execution_count": 266,
   "id": "78240dba",
   "metadata": {},
   "outputs": [
    {
     "name": "stdout",
     "output_type": "stream",
     "text": [
      "The coefficients are -4.65814109495813 and 1.293659758698702\n"
     ]
    }
   ],
   "source": [
    "w_sgd,b_sgd,cost_sgd,cost_list_sgd,epoch_list_sgd = stochastic_gradient_descent(x_train,y_train,7000,0.001)\n",
    "print(\"The coefficients are\",b_sgd,\"and\",w_sgd)"
   ]
  },
  {
   "cell_type": "markdown",
   "id": "ee3e4212",
   "metadata": {},
   "source": [
    "#### Graph for MSE vs ITERATIONS - STOCHASTIC GRADIENT DESCENT"
   ]
  },
  {
   "cell_type": "code",
   "execution_count": 267,
   "id": "1339ffc1",
   "metadata": {},
   "outputs": [
    {
     "data": {
      "text/plain": [
       "[<matplotlib.lines.Line2D at 0x2449c690ac0>]"
      ]
     },
     "execution_count": 267,
     "metadata": {},
     "output_type": "execute_result"
    },
    {
     "data": {
      "image/png": "[encoded data removed]",
      "text/plain": [
       "<Figure size 432x288 with 1 Axes>"
      ]
     },
     "metadata": {
      "needs_background": "light"
     },
     "output_type": "display_data"
    }
   ],
   "source": [
    "plt.xlabel(\"ITERATIONS\")\n",
    "plt.ylabel(\"MSE\")\n",
    "plt.ylim(5,200)\n",
    "plt.plot(epoch_list_sgd,cost_list_sgd)\n"
   ]
  },
  {
   "cell_type": "markdown",
   "id": "8bb98a4e",
   "metadata": {},
   "source": [
    "#### CALCULATING MSE FOR TEST DATA - STOCHASTIC GRADIENT DESCENT"
   ]
  },
  {
   "cell_type": "code",
   "execution_count": 268,
   "id": "fea52c18",
   "metadata": {},
   "outputs": [
    {
     "name": "stdout",
     "output_type": "stream",
     "text": [
      "MSE FOR TEST DATA USING STOCHASTIC GRADIENT DESCENT -  15.729952605932969\n"
     ]
    }
   ],
   "source": [
    "y_predicted_sgd = np.dot(w_sgd,x_test.T) +b_sgd\n",
    "mse = np.mean(np.square(y_test-y_predicted_sgd))\n",
    "print(\"MSE FOR TEST DATA USING STOCHASTIC GRADIENT DESCENT - \",mse)  "
   ]
  },
  {
   "cell_type": "markdown",
   "id": "44a120c7",
   "metadata": {},
   "source": [
    "#### PLOTTING GRAPH FOR MSE (TEST DATA) VS LEARNING RATE - STOCHASTIC GRADIENT DESCENT"
   ]
  },
  {
   "cell_type": "code",
   "execution_count": 269,
   "id": "21894825",
   "metadata": {},
   "outputs": [
    {
     "data": {
      "text/plain": [
       "Text(0, 0.5, 'MSE')"
      ]
     },
     "execution_count": 269,
     "metadata": {},
     "output_type": "execute_result"
    },
    {
     "data": {
      "image/png": "[encoded data removed]",
      "text/plain": [
       "<Figure size 432x288 with 1 Axes>"
      ]
     },
     "metadata": {
      "needs_background": "light"
     },
     "output_type": "display_data"
    }
   ],
   "source": [
    "mse_list_sgd=[]\n",
    "learning_rate_list = [0.001, 0.002, 0.003, 0.004, 0.005, 0.006, 0.007, 0.008, 0.009, 0.01]\n",
    "for i in learning_rate_list:\n",
    "    w_sgd,b_sgd,cost,cost_list,epoch_list = stochiastic_gradient_descent(x_train,y_train,7000,i)\n",
    "    y_predicted_sgd = np.dot(w_sgd,x_test.T) + b_sgd\n",
    "    mse_temp = np.mean(np.square(y_test-y_predicted_sgd))\n",
    "    mse_list_sgd.append(mse_temp)\n",
    "\n",
    "plt.plot(learning_rate_list,mse_list_sgd)\n",
    "plt.xlabel(\"LEARNING RATE\")\n",
    "plt.ylabel(\"MSE\")"
   ]
  },
  {
   "cell_type": "markdown",
   "id": "e8f435a8",
   "metadata": {},
   "source": [
    "#### We can interpret from the above graph that the best learning rate can be considered between 0.001 to 0.003"
   ]
  },
  {
   "cell_type": "markdown",
   "id": "864dda78",
   "metadata": {},
   "source": [
    "##### Accuracy - BATCH GRADIENT DESCENT gives a more accurate/optimal solution than STOCHASTIC. The batch method iterates over the entire dataset for each iteration whereas stochastic chooses a data point randomly. Hence this affects the accuracy of the method"
   ]
  },
  {
   "cell_type": "markdown",
   "id": "82a9ffa8",
   "metadata": {},
   "source": [
    "##### Speed of convergence - STOCHASTIC GRADIENT DESCENT is faster than BATCH. As the stochastic method chooses a random data point rather than going through the entire dataset."
   ]
  },
  {
   "cell_type": "markdown",
   "id": "e3af2de0",
   "metadata": {},
   "source": [
    "##### CONCLUSION - \n",
    "##### BATCH GRADIENT DESCENT \n",
    "##### 1) SLOW AND HENCE NOT SUGGESTED FOR LARGER DATASETS \n",
    "##### 2) GIVES OPTIMAL SOLUTION, IF GIVEN SUFFICIENT TIME TO CONVERGE  \n",
    "##### STOCHASTIC GRADIENT DESCENT\n",
    "##### 1) FAST AND HENCE CAN BE USED FOR LARGER DATASETS\n",
    "##### 2) GIVES GOOD SOLUTION BUT NOT OPTIMAL\n"
   ]
  },
  {
   "cell_type": "code",
   "execution_count": null,
   "id": "575631cd",
   "metadata": {},
   "outputs": [],
   "source": []
  }
 ],
 "metadata": {
  "kernelspec": {
   "display_name": "Python 3 (ipykernel)",
   "language": "python",
   "name": "python3"
  },
  "language_info": {
   "codemirror_mode": {
    "name": "ipython",
    "version": 3
   },
   "file_extension": ".py",
   "mimetype": "text/x-python",
   "name": "python",
   "nbconvert_exporter": "python",
   "pygments_lexer": "ipython3",
   "version": "3.9.12"
  }
 },
 "nbformat": 4,
 "nbformat_minor": 5
}
